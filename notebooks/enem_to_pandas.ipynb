{
 "cells": [
  {
   "cell_type": "markdown",
   "id": "0d4dd0a7-17cc-419a-9ee0-000e4f015f0e",
   "metadata": {},
   "source": [
    "### Microdados do ENEM 2017-2023\n",
    "Os microdados do ENEM podem ser baixados das fontes oficiais a partir das seguintes URLs:\n",
    "\n",
    "| Ano  | URL |\n",
    "| ---- | --- |\n",
    "| 2017 | https://download.inep.gov.br/microdados/microdados_enem_2017.zip |\n",
    "| 2018 | https://download.inep.gov.br/microdados/microdados_enem_2018.zip |\n",
    "| 2019 | https://download.inep.gov.br/microdados/microdados_enem_2019.zip |\n",
    "| 2020 | https://download.inep.gov.br/microdados/microdados_enem_2020.zip |\n",
    "| 2021 | https://download.inep.gov.br/microdados/microdados_enem_2021.zip |\n",
    "| 2022 | https://download.inep.gov.br/microdados/microdados_enem_2022.zip |\n",
    "| 2023 | https://download.inep.gov.br/microdados/microdados_enem_2023.zip |"
   ]
  },
  {
   "cell_type": "code",
   "execution_count": 1,
   "id": "27d2af05-0cdb-4b86-a87f-5738fa920116",
   "metadata": {},
   "outputs": [
    {
     "name": "stdout",
     "output_type": "stream",
     "text": [
      "Note: you may need to restart the kernel to use updated packages.\n"
     ]
    }
   ],
   "source": [
    "%pip install pyarrow --quiet"
   ]
  },
  {
   "cell_type": "code",
   "execution_count": 2,
   "id": "c814a3d4-0547-42e1-8608-b9702543159e",
   "metadata": {},
   "outputs": [],
   "source": [
    "ENCODING = 'windows_1252'\n",
    "PATH_ENEM = r'Y:\\DATASOURCES\\enem'\n",
    "PATH_MD = r'{}\\microdados_enem_[ANO]\\DADOS'.format(PATH_ENEM)\n",
    "PERIODO = range(2017, 2023+1)"
   ]
  },
  {
   "cell_type": "code",
   "execution_count": 3,
   "id": "6e4233a8-4195-492b-aa0d-e357533c16b4",
   "metadata": {},
   "outputs": [
    {
     "name": "stdout",
     "output_type": "stream",
     "text": [
      "MICRODADOS 2017 já está convertido em Y:\\DATASOURCES\\enem\\microdados_enem_2017\\DADOS\\MICRODADOS_ENEM_2017.parquet\n",
      "MICRODADOS 2017 já está convertido em Y:\\DATASOURCES\\enem\\microdados_enem_2017\\DADOS\\MICRODADOS_ENEM_2017.feather\n",
      "MICRODADOS 2018 já está convertido em Y:\\DATASOURCES\\enem\\microdados_enem_2018\\DADOS\\MICRODADOS_ENEM_2018.parquet\n",
      "MICRODADOS 2018 já está convertido em Y:\\DATASOURCES\\enem\\microdados_enem_2018\\DADOS\\MICRODADOS_ENEM_2018.feather\n",
      "MICRODADOS 2019 já está convertido em Y:\\DATASOURCES\\enem\\microdados_enem_2019\\DADOS\\MICRODADOS_ENEM_2019.parquet\n",
      "MICRODADOS 2019 já está convertido em Y:\\DATASOURCES\\enem\\microdados_enem_2019\\DADOS\\MICRODADOS_ENEM_2019.feather\n",
      "MICRODADOS 2020 já está convertido em Y:\\DATASOURCES\\enem\\microdados_enem_2020\\DADOS\\MICRODADOS_ENEM_2020.parquet\n",
      "MICRODADOS 2020 já está convertido em Y:\\DATASOURCES\\enem\\microdados_enem_2020\\DADOS\\MICRODADOS_ENEM_2020.feather\n",
      "Carregando Y:\\DATASOURCES\\enem\\microdados_enem_2021\\DADOS\\MICRODADOS_ENEM_2021.csv... OK\n",
      "Salvando Y:\\DATASOURCES\\enem\\microdados_enem_2021\\DADOS\\MICRODADOS_ENEM_2021.parquet no formato parquet brotli... OK\n",
      "Salvando Y:\\DATASOURCES\\enem\\microdados_enem_2021\\DADOS\\MICRODADOS_ENEM_2021.feather para o formato feather... OK\n",
      "Carregando Y:\\DATASOURCES\\enem\\microdados_enem_2022\\DADOS\\MICRODADOS_ENEM_2022.csv... OK\n",
      "Salvando Y:\\DATASOURCES\\enem\\microdados_enem_2022\\DADOS\\MICRODADOS_ENEM_2022.parquet no formato parquet brotli... OK\n",
      "Salvando Y:\\DATASOURCES\\enem\\microdados_enem_2022\\DADOS\\MICRODADOS_ENEM_2022.feather para o formato feather... OK\n",
      "Carregando Y:\\DATASOURCES\\enem\\microdados_enem_2023\\DADOS\\MICRODADOS_ENEM_2023.csv... OK\n",
      "Salvando Y:\\DATASOURCES\\enem\\microdados_enem_2023\\DADOS\\MICRODADOS_ENEM_2023.parquet no formato parquet brotli... OK\n",
      "Salvando Y:\\DATASOURCES\\enem\\microdados_enem_2023\\DADOS\\MICRODADOS_ENEM_2023.feather para o formato feather... OK\n"
     ]
    }
   ],
   "source": [
    "import pandas as pd\n",
    "import os\n",
    "import gc\n",
    "for p in PERIODO:\n",
    "  PATH_MD_ANO = PATH_MD.replace('[ANO]', str(p))\n",
    "  FILE_MD = f'{PATH_MD_ANO}\\\\MICRODADOS_ENEM_{p}.csv'\n",
    "  PARQUET_MD = f'{PATH_MD_ANO}\\\\MICRODADOS_ENEM_{p}.parquet'\n",
    "  parquet = True\n",
    "  FEATHER_MD = f'{PATH_MD_ANO}\\\\MICRODADOS_ENEM_{p}.feather'\n",
    "  feather = True \n",
    "  \n",
    "  if os.path.exists(PARQUET_MD):\n",
    "    print(f'MICRODADOS {p} já está convertido em {PARQUET_MD}')\n",
    "    parquet = False\n",
    "\n",
    "  if os.path.exists(FEATHER_MD):\n",
    "    print(f'MICRODADOS {p} já está convertido em {FEATHER_MD}')\n",
    "    feather = False\n",
    "    \n",
    "  if parquet or feather:\n",
    "    if os.path.exists(FILE_MD):\n",
    "      print(f'Carregando {FILE_MD}...', end = ' ')\n",
    "      enem = pd.read_csv(FILE_MD, sep=';', header=0, index_col=False, encoding=ENCODING)\n",
    "      print('OK')\n",
    "      if parquet:\n",
    "        print(f'Salvando {PARQUET_MD} no formato parquet brotli...', end = ' ')\n",
    "        enem.to_parquet(path=PARQUET_MD, engine='auto', compression='brotli')\n",
    "        print('OK')\n",
    "      if feather:\n",
    "        print(f'Salvando {FEATHER_MD} para o formato feather...', end = ' ')\n",
    "        enem.to_feather(path=FEATHER_MD)\n",
    "        print('OK')\n",
    "\n",
    "      del enem\n",
    "      gc.collect()\n",
    "      \n",
    "  "
   ]
  }
 ],
 "metadata": {
  "kernelspec": {
   "display_name": "cpu@py312",
   "language": "python",
   "name": "scripts"
  },
  "language_info": {
   "codemirror_mode": {
    "name": "ipython",
    "version": 3
   },
   "file_extension": ".py",
   "mimetype": "text/x-python",
   "name": "python",
   "nbconvert_exporter": "python",
   "pygments_lexer": "ipython3",
   "version": "3.12.10"
  }
 },
 "nbformat": 4,
 "nbformat_minor": 5
}
